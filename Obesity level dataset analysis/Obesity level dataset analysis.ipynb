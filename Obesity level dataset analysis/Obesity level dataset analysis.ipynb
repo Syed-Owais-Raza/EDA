{
 "cells": [
  {
   "cell_type": "code",
   "execution_count": 1,
   "metadata": {},
   "outputs": [],
   "source": [
    "import numpy as np\n",
    "import pandas as pd\n",
    "import matplotlib.pyplot as plt\n",
    "import seaborn as sns"
   ]
  },
  {
   "cell_type": "code",
   "execution_count": 2,
   "metadata": {},
   "outputs": [],
   "source": [
    "df = pd.read_csv('ObesityDataSet_raw_and_data_sinthetic.csv')\n",
    "df_copy = df.copy"
   ]
  },
  {
   "cell_type": "code",
   "execution_count": 3,
   "metadata": {},
   "outputs": [
    {
     "data": {
      "text/html": [
       "<div>\n",
       "<style scoped>\n",
       "    .dataframe tbody tr th:only-of-type {\n",
       "        vertical-align: middle;\n",
       "    }\n",
       "\n",
       "    .dataframe tbody tr th {\n",
       "        vertical-align: top;\n",
       "    }\n",
       "\n",
       "    .dataframe thead th {\n",
       "        text-align: right;\n",
       "    }\n",
       "</style>\n",
       "<table border=\"1\" class=\"dataframe\">\n",
       "  <thead>\n",
       "    <tr style=\"text-align: right;\">\n",
       "      <th></th>\n",
       "      <th>Gender</th>\n",
       "      <th>Age</th>\n",
       "      <th>Height</th>\n",
       "      <th>Weight</th>\n",
       "      <th>family_history_with_overweight</th>\n",
       "      <th>FAVC</th>\n",
       "      <th>FCVC</th>\n",
       "      <th>NCP</th>\n",
       "      <th>CAEC</th>\n",
       "      <th>SMOKE</th>\n",
       "      <th>CH2O</th>\n",
       "      <th>SCC</th>\n",
       "      <th>FAF</th>\n",
       "      <th>TUE</th>\n",
       "      <th>CALC</th>\n",
       "      <th>MTRANS</th>\n",
       "      <th>NObeyesdad</th>\n",
       "    </tr>\n",
       "  </thead>\n",
       "  <tbody>\n",
       "    <tr>\n",
       "      <th>1951</th>\n",
       "      <td>Female</td>\n",
       "      <td>18.904037</td>\n",
       "      <td>1.743589</td>\n",
       "      <td>133.281333</td>\n",
       "      <td>yes</td>\n",
       "      <td>yes</td>\n",
       "      <td>3.000000</td>\n",
       "      <td>3.000000</td>\n",
       "      <td>Sometimes</td>\n",
       "      <td>no</td>\n",
       "      <td>2.684819</td>\n",
       "      <td>no</td>\n",
       "      <td>1.465250</td>\n",
       "      <td>0.804491</td>\n",
       "      <td>Sometimes</td>\n",
       "      <td>Public_Transportation</td>\n",
       "      <td>Obesity_Type_III</td>\n",
       "    </tr>\n",
       "    <tr>\n",
       "      <th>1930</th>\n",
       "      <td>Female</td>\n",
       "      <td>25.982113</td>\n",
       "      <td>1.627818</td>\n",
       "      <td>105.428628</td>\n",
       "      <td>yes</td>\n",
       "      <td>yes</td>\n",
       "      <td>3.000000</td>\n",
       "      <td>3.000000</td>\n",
       "      <td>Sometimes</td>\n",
       "      <td>no</td>\n",
       "      <td>1.480750</td>\n",
       "      <td>no</td>\n",
       "      <td>0.098043</td>\n",
       "      <td>0.663492</td>\n",
       "      <td>Sometimes</td>\n",
       "      <td>Public_Transportation</td>\n",
       "      <td>Obesity_Type_III</td>\n",
       "    </tr>\n",
       "    <tr>\n",
       "      <th>1133</th>\n",
       "      <td>Male</td>\n",
       "      <td>34.098174</td>\n",
       "      <td>1.841151</td>\n",
       "      <td>91.798103</td>\n",
       "      <td>yes</td>\n",
       "      <td>yes</td>\n",
       "      <td>2.000000</td>\n",
       "      <td>2.997414</td>\n",
       "      <td>Sometimes</td>\n",
       "      <td>no</td>\n",
       "      <td>1.259454</td>\n",
       "      <td>no</td>\n",
       "      <td>0.935217</td>\n",
       "      <td>0.997600</td>\n",
       "      <td>Sometimes</td>\n",
       "      <td>Automobile</td>\n",
       "      <td>Overweight_Level_II</td>\n",
       "    </tr>\n",
       "    <tr>\n",
       "      <th>1587</th>\n",
       "      <td>Male</td>\n",
       "      <td>25.478662</td>\n",
       "      <td>1.858265</td>\n",
       "      <td>117.574570</td>\n",
       "      <td>yes</td>\n",
       "      <td>yes</td>\n",
       "      <td>2.028571</td>\n",
       "      <td>3.000000</td>\n",
       "      <td>Sometimes</td>\n",
       "      <td>no</td>\n",
       "      <td>2.530428</td>\n",
       "      <td>no</td>\n",
       "      <td>1.312570</td>\n",
       "      <td>0.066805</td>\n",
       "      <td>Sometimes</td>\n",
       "      <td>Public_Transportation</td>\n",
       "      <td>Obesity_Type_II</td>\n",
       "    </tr>\n",
       "    <tr>\n",
       "      <th>421</th>\n",
       "      <td>Male</td>\n",
       "      <td>18.000000</td>\n",
       "      <td>1.840000</td>\n",
       "      <td>60.000000</td>\n",
       "      <td>yes</td>\n",
       "      <td>yes</td>\n",
       "      <td>3.000000</td>\n",
       "      <td>4.000000</td>\n",
       "      <td>Sometimes</td>\n",
       "      <td>no</td>\n",
       "      <td>2.000000</td>\n",
       "      <td>yes</td>\n",
       "      <td>2.000000</td>\n",
       "      <td>0.000000</td>\n",
       "      <td>Sometimes</td>\n",
       "      <td>Automobile</td>\n",
       "      <td>Insufficient_Weight</td>\n",
       "    </tr>\n",
       "  </tbody>\n",
       "</table>\n",
       "</div>"
      ],
      "text/plain": [
       "      Gender        Age    Height      Weight family_history_with_overweight  \\\n",
       "1951  Female  18.904037  1.743589  133.281333                            yes   \n",
       "1930  Female  25.982113  1.627818  105.428628                            yes   \n",
       "1133    Male  34.098174  1.841151   91.798103                            yes   \n",
       "1587    Male  25.478662  1.858265  117.574570                            yes   \n",
       "421     Male  18.000000  1.840000   60.000000                            yes   \n",
       "\n",
       "     FAVC      FCVC       NCP       CAEC SMOKE      CH2O  SCC       FAF  \\\n",
       "1951  yes  3.000000  3.000000  Sometimes    no  2.684819   no  1.465250   \n",
       "1930  yes  3.000000  3.000000  Sometimes    no  1.480750   no  0.098043   \n",
       "1133  yes  2.000000  2.997414  Sometimes    no  1.259454   no  0.935217   \n",
       "1587  yes  2.028571  3.000000  Sometimes    no  2.530428   no  1.312570   \n",
       "421   yes  3.000000  4.000000  Sometimes    no  2.000000  yes  2.000000   \n",
       "\n",
       "           TUE       CALC                 MTRANS           NObeyesdad  \n",
       "1951  0.804491  Sometimes  Public_Transportation     Obesity_Type_III  \n",
       "1930  0.663492  Sometimes  Public_Transportation     Obesity_Type_III  \n",
       "1133  0.997600  Sometimes             Automobile  Overweight_Level_II  \n",
       "1587  0.066805  Sometimes  Public_Transportation      Obesity_Type_II  \n",
       "421   0.000000  Sometimes             Automobile  Insufficient_Weight  "
      ]
     },
     "execution_count": 3,
     "metadata": {},
     "output_type": "execute_result"
    }
   ],
   "source": [
    "df.sample(5)"
   ]
  },
  {
   "cell_type": "markdown",
   "metadata": {},
   "source": [
    "Checking shape of data"
   ]
  },
  {
   "cell_type": "code",
   "execution_count": 4,
   "metadata": {},
   "outputs": [
    {
     "data": {
      "text/plain": [
       "(2111, 17)"
      ]
     },
     "execution_count": 4,
     "metadata": {},
     "output_type": "execute_result"
    }
   ],
   "source": [
    "df.shape"
   ]
  },
  {
   "cell_type": "markdown",
   "metadata": {},
   "source": [
    "Looking for missing values"
   ]
  },
  {
   "cell_type": "code",
   "execution_count": 6,
   "metadata": {},
   "outputs": [
    {
     "data": {
      "text/plain": [
       "Gender                            0\n",
       "Age                               0\n",
       "Height                            0\n",
       "Weight                            0\n",
       "family_history_with_overweight    0\n",
       "FAVC                              0\n",
       "FCVC                              0\n",
       "NCP                               0\n",
       "CAEC                              0\n",
       "SMOKE                             0\n",
       "CH2O                              0\n",
       "SCC                               0\n",
       "FAF                               0\n",
       "TUE                               0\n",
       "CALC                              0\n",
       "MTRANS                            0\n",
       "NObeyesdad                        0\n",
       "dtype: int64"
      ]
     },
     "execution_count": 6,
     "metadata": {},
     "output_type": "execute_result"
    }
   ],
   "source": [
    "df.isna().sum()"
   ]
  },
  {
   "cell_type": "markdown",
   "metadata": {},
   "source": [
    "Looking for duplicated values"
   ]
  },
  {
   "cell_type": "code",
   "execution_count": 7,
   "metadata": {},
   "outputs": [
    {
     "data": {
      "text/plain": [
       "np.int64(24)"
      ]
     },
     "execution_count": 7,
     "metadata": {},
     "output_type": "execute_result"
    }
   ],
   "source": [
    "df.duplicated().sum()"
   ]
  },
  {
   "cell_type": "code",
   "execution_count": 12,
   "metadata": {},
   "outputs": [],
   "source": [
    "# The data contains 24 duplicated values which we will drop\n",
    "df.drop_duplicates(inplace=True)"
   ]
  },
  {
   "cell_type": "markdown",
   "metadata": {},
   "source": [
    "Basic Information and Descriptive Statistics"
   ]
  },
  {
   "cell_type": "code",
   "execution_count": 13,
   "metadata": {},
   "outputs": [
    {
     "name": "stdout",
     "output_type": "stream",
     "text": [
      "<class 'pandas.core.frame.DataFrame'>\n",
      "Index: 2087 entries, 0 to 2110\n",
      "Data columns (total 17 columns):\n",
      " #   Column                          Non-Null Count  Dtype  \n",
      "---  ------                          --------------  -----  \n",
      " 0   Gender                          2087 non-null   object \n",
      " 1   Age                             2087 non-null   float64\n",
      " 2   Height                          2087 non-null   float64\n",
      " 3   Weight                          2087 non-null   float64\n",
      " 4   family_history_with_overweight  2087 non-null   object \n",
      " 5   FAVC                            2087 non-null   object \n",
      " 6   FCVC                            2087 non-null   float64\n",
      " 7   NCP                             2087 non-null   float64\n",
      " 8   CAEC                            2087 non-null   object \n",
      " 9   SMOKE                           2087 non-null   object \n",
      " 10  CH2O                            2087 non-null   float64\n",
      " 11  SCC                             2087 non-null   object \n",
      " 12  FAF                             2087 non-null   float64\n",
      " 13  TUE                             2087 non-null   float64\n",
      " 14  CALC                            2087 non-null   object \n",
      " 15  MTRANS                          2087 non-null   object \n",
      " 16  NObeyesdad                      2087 non-null   object \n",
      "dtypes: float64(8), object(9)\n",
      "memory usage: 293.5+ KB\n"
     ]
    }
   ],
   "source": [
    "df.info()"
   ]
  },
  {
   "cell_type": "code",
   "execution_count": 14,
   "metadata": {},
   "outputs": [
    {
     "data": {
      "text/html": [
       "<div>\n",
       "<style scoped>\n",
       "    .dataframe tbody tr th:only-of-type {\n",
       "        vertical-align: middle;\n",
       "    }\n",
       "\n",
       "    .dataframe tbody tr th {\n",
       "        vertical-align: top;\n",
       "    }\n",
       "\n",
       "    .dataframe thead th {\n",
       "        text-align: right;\n",
       "    }\n",
       "</style>\n",
       "<table border=\"1\" class=\"dataframe\">\n",
       "  <thead>\n",
       "    <tr style=\"text-align: right;\">\n",
       "      <th></th>\n",
       "      <th>Age</th>\n",
       "      <th>Height</th>\n",
       "      <th>Weight</th>\n",
       "      <th>FCVC</th>\n",
       "      <th>NCP</th>\n",
       "      <th>CH2O</th>\n",
       "      <th>FAF</th>\n",
       "      <th>TUE</th>\n",
       "    </tr>\n",
       "  </thead>\n",
       "  <tbody>\n",
       "    <tr>\n",
       "      <th>count</th>\n",
       "      <td>2087.000000</td>\n",
       "      <td>2087.000000</td>\n",
       "      <td>2087.000000</td>\n",
       "      <td>2087.000000</td>\n",
       "      <td>2087.000000</td>\n",
       "      <td>2087.000000</td>\n",
       "      <td>2087.000000</td>\n",
       "      <td>2087.000000</td>\n",
       "    </tr>\n",
       "    <tr>\n",
       "      <th>mean</th>\n",
       "      <td>24.353090</td>\n",
       "      <td>1.702674</td>\n",
       "      <td>86.858730</td>\n",
       "      <td>2.421466</td>\n",
       "      <td>2.701179</td>\n",
       "      <td>2.004749</td>\n",
       "      <td>1.012812</td>\n",
       "      <td>0.663035</td>\n",
       "    </tr>\n",
       "    <tr>\n",
       "      <th>std</th>\n",
       "      <td>6.368801</td>\n",
       "      <td>0.093186</td>\n",
       "      <td>26.190847</td>\n",
       "      <td>0.534737</td>\n",
       "      <td>0.764614</td>\n",
       "      <td>0.608284</td>\n",
       "      <td>0.853475</td>\n",
       "      <td>0.608153</td>\n",
       "    </tr>\n",
       "    <tr>\n",
       "      <th>min</th>\n",
       "      <td>14.000000</td>\n",
       "      <td>1.450000</td>\n",
       "      <td>39.000000</td>\n",
       "      <td>1.000000</td>\n",
       "      <td>1.000000</td>\n",
       "      <td>1.000000</td>\n",
       "      <td>0.000000</td>\n",
       "      <td>0.000000</td>\n",
       "    </tr>\n",
       "    <tr>\n",
       "      <th>25%</th>\n",
       "      <td>19.915937</td>\n",
       "      <td>1.630178</td>\n",
       "      <td>66.000000</td>\n",
       "      <td>2.000000</td>\n",
       "      <td>2.697467</td>\n",
       "      <td>1.590922</td>\n",
       "      <td>0.124505</td>\n",
       "      <td>0.000000</td>\n",
       "    </tr>\n",
       "    <tr>\n",
       "      <th>50%</th>\n",
       "      <td>22.847618</td>\n",
       "      <td>1.701584</td>\n",
       "      <td>83.101100</td>\n",
       "      <td>2.396265</td>\n",
       "      <td>3.000000</td>\n",
       "      <td>2.000000</td>\n",
       "      <td>1.000000</td>\n",
       "      <td>0.630866</td>\n",
       "    </tr>\n",
       "    <tr>\n",
       "      <th>75%</th>\n",
       "      <td>26.000000</td>\n",
       "      <td>1.769491</td>\n",
       "      <td>108.015907</td>\n",
       "      <td>3.000000</td>\n",
       "      <td>3.000000</td>\n",
       "      <td>2.466193</td>\n",
       "      <td>1.678102</td>\n",
       "      <td>1.000000</td>\n",
       "    </tr>\n",
       "    <tr>\n",
       "      <th>max</th>\n",
       "      <td>61.000000</td>\n",
       "      <td>1.980000</td>\n",
       "      <td>173.000000</td>\n",
       "      <td>3.000000</td>\n",
       "      <td>4.000000</td>\n",
       "      <td>3.000000</td>\n",
       "      <td>3.000000</td>\n",
       "      <td>2.000000</td>\n",
       "    </tr>\n",
       "  </tbody>\n",
       "</table>\n",
       "</div>"
      ],
      "text/plain": [
       "               Age       Height       Weight         FCVC          NCP  \\\n",
       "count  2087.000000  2087.000000  2087.000000  2087.000000  2087.000000   \n",
       "mean     24.353090     1.702674    86.858730     2.421466     2.701179   \n",
       "std       6.368801     0.093186    26.190847     0.534737     0.764614   \n",
       "min      14.000000     1.450000    39.000000     1.000000     1.000000   \n",
       "25%      19.915937     1.630178    66.000000     2.000000     2.697467   \n",
       "50%      22.847618     1.701584    83.101100     2.396265     3.000000   \n",
       "75%      26.000000     1.769491   108.015907     3.000000     3.000000   \n",
       "max      61.000000     1.980000   173.000000     3.000000     4.000000   \n",
       "\n",
       "              CH2O          FAF          TUE  \n",
       "count  2087.000000  2087.000000  2087.000000  \n",
       "mean      2.004749     1.012812     0.663035  \n",
       "std       0.608284     0.853475     0.608153  \n",
       "min       1.000000     0.000000     0.000000  \n",
       "25%       1.590922     0.124505     0.000000  \n",
       "50%       2.000000     1.000000     0.630866  \n",
       "75%       2.466193     1.678102     1.000000  \n",
       "max       3.000000     3.000000     2.000000  "
      ]
     },
     "execution_count": 14,
     "metadata": {},
     "output_type": "execute_result"
    }
   ],
   "source": [
    "df.describe()"
   ]
  }
 ],
 "metadata": {
  "kernelspec": {
   "display_name": "Python 3",
   "language": "python",
   "name": "python3"
  },
  "language_info": {
   "codemirror_mode": {
    "name": "ipython",
    "version": 3
   },
   "file_extension": ".py",
   "mimetype": "text/x-python",
   "name": "python",
   "nbconvert_exporter": "python",
   "pygments_lexer": "ipython3",
   "version": "3.13.0"
  }
 },
 "nbformat": 4,
 "nbformat_minor": 2
}
