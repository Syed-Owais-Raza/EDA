{
 "cells": [
  {
   "cell_type": "code",
   "execution_count": 15,
   "metadata": {},
   "outputs": [],
   "source": [
    "import numpy as np \n",
    "import pandas as pd\n",
    "import matplotlib.pyplot as plt\n",
    "import seaborn as sns\n",
    "import plotly.express as px"
   ]
  },
  {
   "cell_type": "code",
   "execution_count": 16,
   "metadata": {},
   "outputs": [],
   "source": [
    "df = pd.read_csv('lung_cancer_prediction_dataset.csv')"
   ]
  },
  {
   "cell_type": "code",
   "execution_count": 17,
   "metadata": {},
   "outputs": [
    {
     "data": {
      "text/plain": [
       "(220632, 24)"
      ]
     },
     "execution_count": 17,
     "metadata": {},
     "output_type": "execute_result"
    }
   ],
   "source": [
    "df.shape"
   ]
  },
  {
   "cell_type": "code",
   "execution_count": 18,
   "metadata": {},
   "outputs": [
    {
     "data": {
      "text/html": [
       "<div>\n",
       "<style scoped>\n",
       "    .dataframe tbody tr th:only-of-type {\n",
       "        vertical-align: middle;\n",
       "    }\n",
       "\n",
       "    .dataframe tbody tr th {\n",
       "        vertical-align: top;\n",
       "    }\n",
       "\n",
       "    .dataframe thead th {\n",
       "        text-align: right;\n",
       "    }\n",
       "</style>\n",
       "<table border=\"1\" class=\"dataframe\">\n",
       "  <thead>\n",
       "    <tr style=\"text-align: right;\">\n",
       "      <th></th>\n",
       "      <th>ID</th>\n",
       "      <th>Country</th>\n",
       "      <th>Population_Size</th>\n",
       "      <th>Age</th>\n",
       "      <th>Gender</th>\n",
       "      <th>Smoker</th>\n",
       "      <th>Years_of_Smoking</th>\n",
       "      <th>Cigarettes_per_Day</th>\n",
       "      <th>Passive_Smoker</th>\n",
       "      <th>Family_History</th>\n",
       "      <th>...</th>\n",
       "      <th>Air_Pollution_Exposure</th>\n",
       "      <th>Occupational_Exposure</th>\n",
       "      <th>Indoor_Pollution</th>\n",
       "      <th>Healthcare_Access</th>\n",
       "      <th>Early_Detection</th>\n",
       "      <th>Treatment_Type</th>\n",
       "      <th>Developed_or_Developing</th>\n",
       "      <th>Annual_Lung_Cancer_Deaths</th>\n",
       "      <th>Lung_Cancer_Prevalence_Rate</th>\n",
       "      <th>Mortality_Rate</th>\n",
       "    </tr>\n",
       "  </thead>\n",
       "  <tbody>\n",
       "    <tr>\n",
       "      <th>194226</th>\n",
       "      <td>194226</td>\n",
       "      <td>India</td>\n",
       "      <td>1380</td>\n",
       "      <td>39</td>\n",
       "      <td>Male</td>\n",
       "      <td>Yes</td>\n",
       "      <td>16</td>\n",
       "      <td>27</td>\n",
       "      <td>No</td>\n",
       "      <td>No</td>\n",
       "      <td>...</td>\n",
       "      <td>Medium</td>\n",
       "      <td>No</td>\n",
       "      <td>No</td>\n",
       "      <td>Poor</td>\n",
       "      <td>No</td>\n",
       "      <td>NaN</td>\n",
       "      <td>Developing</td>\n",
       "      <td>70000</td>\n",
       "      <td>2.21</td>\n",
       "      <td>0.0</td>\n",
       "    </tr>\n",
       "    <tr>\n",
       "      <th>105685</th>\n",
       "      <td>105685</td>\n",
       "      <td>Myanmar</td>\n",
       "      <td>54</td>\n",
       "      <td>69</td>\n",
       "      <td>Male</td>\n",
       "      <td>Yes</td>\n",
       "      <td>36</td>\n",
       "      <td>7</td>\n",
       "      <td>No</td>\n",
       "      <td>No</td>\n",
       "      <td>...</td>\n",
       "      <td>Low</td>\n",
       "      <td>No</td>\n",
       "      <td>No</td>\n",
       "      <td>Poor</td>\n",
       "      <td>Yes</td>\n",
       "      <td>NaN</td>\n",
       "      <td>Developing</td>\n",
       "      <td>34021</td>\n",
       "      <td>2.23</td>\n",
       "      <td>0.0</td>\n",
       "    </tr>\n",
       "    <tr>\n",
       "      <th>58833</th>\n",
       "      <td>58833</td>\n",
       "      <td>USA</td>\n",
       "      <td>331</td>\n",
       "      <td>42</td>\n",
       "      <td>Male</td>\n",
       "      <td>Yes</td>\n",
       "      <td>36</td>\n",
       "      <td>15</td>\n",
       "      <td>No</td>\n",
       "      <td>No</td>\n",
       "      <td>...</td>\n",
       "      <td>High</td>\n",
       "      <td>No</td>\n",
       "      <td>No</td>\n",
       "      <td>Good</td>\n",
       "      <td>Yes</td>\n",
       "      <td>NaN</td>\n",
       "      <td>Developed</td>\n",
       "      <td>130000</td>\n",
       "      <td>1.61</td>\n",
       "      <td>0.0</td>\n",
       "    </tr>\n",
       "    <tr>\n",
       "      <th>19460</th>\n",
       "      <td>19460</td>\n",
       "      <td>China</td>\n",
       "      <td>1400</td>\n",
       "      <td>64</td>\n",
       "      <td>Male</td>\n",
       "      <td>No</td>\n",
       "      <td>0</td>\n",
       "      <td>0</td>\n",
       "      <td>No</td>\n",
       "      <td>No</td>\n",
       "      <td>...</td>\n",
       "      <td>Medium</td>\n",
       "      <td>No</td>\n",
       "      <td>Yes</td>\n",
       "      <td>Poor</td>\n",
       "      <td>No</td>\n",
       "      <td>NaN</td>\n",
       "      <td>Developing</td>\n",
       "      <td>690000</td>\n",
       "      <td>1.62</td>\n",
       "      <td>0.0</td>\n",
       "    </tr>\n",
       "    <tr>\n",
       "      <th>15965</th>\n",
       "      <td>15965</td>\n",
       "      <td>Nigeria</td>\n",
       "      <td>206</td>\n",
       "      <td>71</td>\n",
       "      <td>Female</td>\n",
       "      <td>No</td>\n",
       "      <td>0</td>\n",
       "      <td>0</td>\n",
       "      <td>No</td>\n",
       "      <td>No</td>\n",
       "      <td>...</td>\n",
       "      <td>Low</td>\n",
       "      <td>Yes</td>\n",
       "      <td>Yes</td>\n",
       "      <td>Poor</td>\n",
       "      <td>Yes</td>\n",
       "      <td>NaN</td>\n",
       "      <td>Developing</td>\n",
       "      <td>20000</td>\n",
       "      <td>1.68</td>\n",
       "      <td>0.0</td>\n",
       "    </tr>\n",
       "  </tbody>\n",
       "</table>\n",
       "<p>5 rows × 24 columns</p>\n",
       "</div>"
      ],
      "text/plain": [
       "            ID  Country  Population_Size  Age  Gender Smoker  \\\n",
       "194226  194226    India             1380   39    Male    Yes   \n",
       "105685  105685  Myanmar               54   69    Male    Yes   \n",
       "58833    58833      USA              331   42    Male    Yes   \n",
       "19460    19460    China             1400   64    Male     No   \n",
       "15965    15965  Nigeria              206   71  Female     No   \n",
       "\n",
       "        Years_of_Smoking  Cigarettes_per_Day Passive_Smoker Family_History  \\\n",
       "194226                16                  27             No             No   \n",
       "105685                36                   7             No             No   \n",
       "58833                 36                  15             No             No   \n",
       "19460                  0                   0             No             No   \n",
       "15965                  0                   0             No             No   \n",
       "\n",
       "        ... Air_Pollution_Exposure Occupational_Exposure  Indoor_Pollution  \\\n",
       "194226  ...                 Medium                    No                No   \n",
       "105685  ...                    Low                    No                No   \n",
       "58833   ...                   High                    No                No   \n",
       "19460   ...                 Medium                    No               Yes   \n",
       "15965   ...                    Low                   Yes               Yes   \n",
       "\n",
       "       Healthcare_Access Early_Detection Treatment_Type  \\\n",
       "194226              Poor              No            NaN   \n",
       "105685              Poor             Yes            NaN   \n",
       "58833               Good             Yes            NaN   \n",
       "19460               Poor              No            NaN   \n",
       "15965               Poor             Yes            NaN   \n",
       "\n",
       "       Developed_or_Developing Annual_Lung_Cancer_Deaths  \\\n",
       "194226              Developing                     70000   \n",
       "105685              Developing                     34021   \n",
       "58833                Developed                    130000   \n",
       "19460               Developing                    690000   \n",
       "15965               Developing                     20000   \n",
       "\n",
       "       Lung_Cancer_Prevalence_Rate Mortality_Rate  \n",
       "194226                        2.21            0.0  \n",
       "105685                        2.23            0.0  \n",
       "58833                         1.61            0.0  \n",
       "19460                         1.62            0.0  \n",
       "15965                         1.68            0.0  \n",
       "\n",
       "[5 rows x 24 columns]"
      ]
     },
     "execution_count": 18,
     "metadata": {},
     "output_type": "execute_result"
    }
   ],
   "source": [
    "df.sample(5)"
   ]
  },
  {
   "cell_type": "code",
   "execution_count": 19,
   "metadata": {},
   "outputs": [
    {
     "data": {
      "text/html": [
       "<div>\n",
       "<style scoped>\n",
       "    .dataframe tbody tr th:only-of-type {\n",
       "        vertical-align: middle;\n",
       "    }\n",
       "\n",
       "    .dataframe tbody tr th {\n",
       "        vertical-align: top;\n",
       "    }\n",
       "\n",
       "    .dataframe thead th {\n",
       "        text-align: right;\n",
       "    }\n",
       "</style>\n",
       "<table border=\"1\" class=\"dataframe\">\n",
       "  <thead>\n",
       "    <tr style=\"text-align: right;\">\n",
       "      <th></th>\n",
       "      <th>Lung_Cancer_Diagnosis</th>\n",
       "      <th>Cancer_Stage</th>\n",
       "      <th>Survival_Years</th>\n",
       "      <th>Adenocarcinoma_Type</th>\n",
       "    </tr>\n",
       "  </thead>\n",
       "  <tbody>\n",
       "    <tr>\n",
       "      <th>118155</th>\n",
       "      <td>No</td>\n",
       "      <td>NaN</td>\n",
       "      <td>0</td>\n",
       "      <td>Yes</td>\n",
       "    </tr>\n",
       "    <tr>\n",
       "      <th>119460</th>\n",
       "      <td>No</td>\n",
       "      <td>NaN</td>\n",
       "      <td>0</td>\n",
       "      <td>Yes</td>\n",
       "    </tr>\n",
       "    <tr>\n",
       "      <th>132158</th>\n",
       "      <td>No</td>\n",
       "      <td>NaN</td>\n",
       "      <td>0</td>\n",
       "      <td>No</td>\n",
       "    </tr>\n",
       "    <tr>\n",
       "      <th>30956</th>\n",
       "      <td>No</td>\n",
       "      <td>NaN</td>\n",
       "      <td>0</td>\n",
       "      <td>Yes</td>\n",
       "    </tr>\n",
       "    <tr>\n",
       "      <th>100106</th>\n",
       "      <td>No</td>\n",
       "      <td>NaN</td>\n",
       "      <td>0</td>\n",
       "      <td>Yes</td>\n",
       "    </tr>\n",
       "  </tbody>\n",
       "</table>\n",
       "</div>"
      ],
      "text/plain": [
       "       Lung_Cancer_Diagnosis Cancer_Stage  Survival_Years Adenocarcinoma_Type\n",
       "118155                    No          NaN               0                 Yes\n",
       "119460                    No          NaN               0                 Yes\n",
       "132158                    No          NaN               0                  No\n",
       "30956                     No          NaN               0                 Yes\n",
       "100106                    No          NaN               0                 Yes"
      ]
     },
     "execution_count": 19,
     "metadata": {},
     "output_type": "execute_result"
    }
   ],
   "source": [
    "df[['Lung_Cancer_Diagnosis', 'Cancer_Stage', 'Survival_Years', 'Adenocarcinoma_Type']].sample(5)"
   ]
  },
  {
   "cell_type": "code",
   "execution_count": 20,
   "metadata": {},
   "outputs": [
    {
     "data": {
      "text/plain": [
       "Mortality_Rate\n",
       "0.00     211671\n",
       "70.38        10\n",
       "84.23        10\n",
       "75.04        10\n",
       "82.11        10\n",
       "          ...  \n",
       "82.29         1\n",
       "88.97         1\n",
       "71.55         1\n",
       "70.68         1\n",
       "74.28         1\n",
       "Name: count, Length: 2849, dtype: int64"
      ]
     },
     "execution_count": 20,
     "metadata": {},
     "output_type": "execute_result"
    }
   ],
   "source": [
    "df['Mortality_Rate'].value_counts()"
   ]
  },
  {
   "cell_type": "code",
   "execution_count": 21,
   "metadata": {},
   "outputs": [
    {
     "name": "stdout",
     "output_type": "stream",
     "text": [
      "<class 'pandas.core.frame.DataFrame'>\n",
      "RangeIndex: 220632 entries, 0 to 220631\n",
      "Data columns (total 24 columns):\n",
      " #   Column                       Non-Null Count   Dtype  \n",
      "---  ------                       --------------   -----  \n",
      " 0   ID                           220632 non-null  int64  \n",
      " 1   Country                      220632 non-null  object \n",
      " 2   Population_Size              220632 non-null  int64  \n",
      " 3   Age                          220632 non-null  int64  \n",
      " 4   Gender                       220632 non-null  object \n",
      " 5   Smoker                       220632 non-null  object \n",
      " 6   Years_of_Smoking             220632 non-null  int64  \n",
      " 7   Cigarettes_per_Day           220632 non-null  int64  \n",
      " 8   Passive_Smoker               220632 non-null  object \n",
      " 9   Family_History               220632 non-null  object \n",
      " 10  Lung_Cancer_Diagnosis        220632 non-null  object \n",
      " 11  Cancer_Stage                 8961 non-null    object \n",
      " 12  Survival_Years               220632 non-null  int64  \n",
      " 13  Adenocarcinoma_Type          220632 non-null  object \n",
      " 14  Air_Pollution_Exposure       220632 non-null  object \n",
      " 15  Occupational_Exposure        220632 non-null  object \n",
      " 16  Indoor_Pollution             220632 non-null  object \n",
      " 17  Healthcare_Access            220632 non-null  object \n",
      " 18  Early_Detection              220632 non-null  object \n",
      " 19  Treatment_Type               6664 non-null    object \n",
      " 20  Developed_or_Developing      220632 non-null  object \n",
      " 21  Annual_Lung_Cancer_Deaths    220632 non-null  int64  \n",
      " 22  Lung_Cancer_Prevalence_Rate  220632 non-null  float64\n",
      " 23  Mortality_Rate               220632 non-null  float64\n",
      "dtypes: float64(2), int64(7), object(15)\n",
      "memory usage: 40.4+ MB\n"
     ]
    }
   ],
   "source": [
    "df.info()"
   ]
  },
  {
   "cell_type": "code",
   "execution_count": 22,
   "metadata": {},
   "outputs": [
    {
     "data": {
      "text/html": [
       "<div>\n",
       "<style scoped>\n",
       "    .dataframe tbody tr th:only-of-type {\n",
       "        vertical-align: middle;\n",
       "    }\n",
       "\n",
       "    .dataframe tbody tr th {\n",
       "        vertical-align: top;\n",
       "    }\n",
       "\n",
       "    .dataframe thead th {\n",
       "        text-align: right;\n",
       "    }\n",
       "</style>\n",
       "<table border=\"1\" class=\"dataframe\">\n",
       "  <thead>\n",
       "    <tr style=\"text-align: right;\">\n",
       "      <th></th>\n",
       "      <th>0</th>\n",
       "      <th>1</th>\n",
       "    </tr>\n",
       "  </thead>\n",
       "  <tbody>\n",
       "    <tr>\n",
       "      <th>ID</th>\n",
       "      <td>0</td>\n",
       "      <td>0.000000</td>\n",
       "    </tr>\n",
       "    <tr>\n",
       "      <th>Country</th>\n",
       "      <td>0</td>\n",
       "      <td>0.000000</td>\n",
       "    </tr>\n",
       "    <tr>\n",
       "      <th>Population_Size</th>\n",
       "      <td>0</td>\n",
       "      <td>0.000000</td>\n",
       "    </tr>\n",
       "    <tr>\n",
       "      <th>Age</th>\n",
       "      <td>0</td>\n",
       "      <td>0.000000</td>\n",
       "    </tr>\n",
       "    <tr>\n",
       "      <th>Gender</th>\n",
       "      <td>0</td>\n",
       "      <td>0.000000</td>\n",
       "    </tr>\n",
       "    <tr>\n",
       "      <th>Smoker</th>\n",
       "      <td>0</td>\n",
       "      <td>0.000000</td>\n",
       "    </tr>\n",
       "    <tr>\n",
       "      <th>Years_of_Smoking</th>\n",
       "      <td>0</td>\n",
       "      <td>0.000000</td>\n",
       "    </tr>\n",
       "    <tr>\n",
       "      <th>Cigarettes_per_Day</th>\n",
       "      <td>0</td>\n",
       "      <td>0.000000</td>\n",
       "    </tr>\n",
       "    <tr>\n",
       "      <th>Passive_Smoker</th>\n",
       "      <td>0</td>\n",
       "      <td>0.000000</td>\n",
       "    </tr>\n",
       "    <tr>\n",
       "      <th>Family_History</th>\n",
       "      <td>0</td>\n",
       "      <td>0.000000</td>\n",
       "    </tr>\n",
       "    <tr>\n",
       "      <th>Lung_Cancer_Diagnosis</th>\n",
       "      <td>0</td>\n",
       "      <td>0.000000</td>\n",
       "    </tr>\n",
       "    <tr>\n",
       "      <th>Cancer_Stage</th>\n",
       "      <td>211671</td>\n",
       "      <td>95.938486</td>\n",
       "    </tr>\n",
       "    <tr>\n",
       "      <th>Survival_Years</th>\n",
       "      <td>0</td>\n",
       "      <td>0.000000</td>\n",
       "    </tr>\n",
       "    <tr>\n",
       "      <th>Adenocarcinoma_Type</th>\n",
       "      <td>0</td>\n",
       "      <td>0.000000</td>\n",
       "    </tr>\n",
       "    <tr>\n",
       "      <th>Air_Pollution_Exposure</th>\n",
       "      <td>0</td>\n",
       "      <td>0.000000</td>\n",
       "    </tr>\n",
       "    <tr>\n",
       "      <th>Occupational_Exposure</th>\n",
       "      <td>0</td>\n",
       "      <td>0.000000</td>\n",
       "    </tr>\n",
       "    <tr>\n",
       "      <th>Indoor_Pollution</th>\n",
       "      <td>0</td>\n",
       "      <td>0.000000</td>\n",
       "    </tr>\n",
       "    <tr>\n",
       "      <th>Healthcare_Access</th>\n",
       "      <td>0</td>\n",
       "      <td>0.000000</td>\n",
       "    </tr>\n",
       "    <tr>\n",
       "      <th>Early_Detection</th>\n",
       "      <td>0</td>\n",
       "      <td>0.000000</td>\n",
       "    </tr>\n",
       "    <tr>\n",
       "      <th>Treatment_Type</th>\n",
       "      <td>213968</td>\n",
       "      <td>96.979586</td>\n",
       "    </tr>\n",
       "    <tr>\n",
       "      <th>Developed_or_Developing</th>\n",
       "      <td>0</td>\n",
       "      <td>0.000000</td>\n",
       "    </tr>\n",
       "    <tr>\n",
       "      <th>Annual_Lung_Cancer_Deaths</th>\n",
       "      <td>0</td>\n",
       "      <td>0.000000</td>\n",
       "    </tr>\n",
       "    <tr>\n",
       "      <th>Lung_Cancer_Prevalence_Rate</th>\n",
       "      <td>0</td>\n",
       "      <td>0.000000</td>\n",
       "    </tr>\n",
       "    <tr>\n",
       "      <th>Mortality_Rate</th>\n",
       "      <td>0</td>\n",
       "      <td>0.000000</td>\n",
       "    </tr>\n",
       "  </tbody>\n",
       "</table>\n",
       "</div>"
      ],
      "text/plain": [
       "                                  0          1\n",
       "ID                                0   0.000000\n",
       "Country                           0   0.000000\n",
       "Population_Size                   0   0.000000\n",
       "Age                               0   0.000000\n",
       "Gender                            0   0.000000\n",
       "Smoker                            0   0.000000\n",
       "Years_of_Smoking                  0   0.000000\n",
       "Cigarettes_per_Day                0   0.000000\n",
       "Passive_Smoker                    0   0.000000\n",
       "Family_History                    0   0.000000\n",
       "Lung_Cancer_Diagnosis             0   0.000000\n",
       "Cancer_Stage                 211671  95.938486\n",
       "Survival_Years                    0   0.000000\n",
       "Adenocarcinoma_Type               0   0.000000\n",
       "Air_Pollution_Exposure            0   0.000000\n",
       "Occupational_Exposure             0   0.000000\n",
       "Indoor_Pollution                  0   0.000000\n",
       "Healthcare_Access                 0   0.000000\n",
       "Early_Detection                   0   0.000000\n",
       "Treatment_Type               213968  96.979586\n",
       "Developed_or_Developing           0   0.000000\n",
       "Annual_Lung_Cancer_Deaths         0   0.000000\n",
       "Lung_Cancer_Prevalence_Rate       0   0.000000\n",
       "Mortality_Rate                    0   0.000000"
      ]
     },
     "execution_count": 22,
     "metadata": {},
     "output_type": "execute_result"
    }
   ],
   "source": [
    "mis_val = df.isna().sum()\n",
    "mis_val_per = 100* mis_val/len(df)\n",
    "mis_val_table = pd.concat([mis_val, mis_val_per], axis=1).rename({0:'Missing values', 1:'% of total'})\n",
    "mis_val_table"
   ]
  },
  {
   "cell_type": "code",
   "execution_count": 23,
   "metadata": {},
   "outputs": [
    {
     "data": {
      "text/html": [
       "<div>\n",
       "<style scoped>\n",
       "    .dataframe tbody tr th:only-of-type {\n",
       "        vertical-align: middle;\n",
       "    }\n",
       "\n",
       "    .dataframe tbody tr th {\n",
       "        vertical-align: top;\n",
       "    }\n",
       "\n",
       "    .dataframe thead th {\n",
       "        text-align: right;\n",
       "    }\n",
       "</style>\n",
       "<table border=\"1\" class=\"dataframe\">\n",
       "  <thead>\n",
       "    <tr style=\"text-align: right;\">\n",
       "      <th></th>\n",
       "      <th>ID</th>\n",
       "      <th>Population_Size</th>\n",
       "      <th>Age</th>\n",
       "      <th>Years_of_Smoking</th>\n",
       "      <th>Cigarettes_per_Day</th>\n",
       "      <th>Survival_Years</th>\n",
       "      <th>Annual_Lung_Cancer_Deaths</th>\n",
       "      <th>Lung_Cancer_Prevalence_Rate</th>\n",
       "      <th>Mortality_Rate</th>\n",
       "    </tr>\n",
       "  </thead>\n",
       "  <tbody>\n",
       "    <tr>\n",
       "      <th>count</th>\n",
       "      <td>220632.000000</td>\n",
       "      <td>220632.000000</td>\n",
       "      <td>220632.000000</td>\n",
       "      <td>220632.000000</td>\n",
       "      <td>220632.000000</td>\n",
       "      <td>220632.000000</td>\n",
       "      <td>220632.000000</td>\n",
       "      <td>220632.000000</td>\n",
       "      <td>220632.000000</td>\n",
       "    </tr>\n",
       "    <tr>\n",
       "      <th>mean</th>\n",
       "      <td>110315.500000</td>\n",
       "      <td>229.779882</td>\n",
       "      <td>52.518352</td>\n",
       "      <td>8.175274</td>\n",
       "      <td>7.007515</td>\n",
       "      <td>0.223526</td>\n",
       "      <td>63931.086928</td>\n",
       "      <td>1.502085</td>\n",
       "      <td>3.049802</td>\n",
       "    </tr>\n",
       "    <tr>\n",
       "      <th>std</th>\n",
       "      <td>63691.116633</td>\n",
       "      <td>349.247477</td>\n",
       "      <td>19.078215</td>\n",
       "      <td>12.377248</td>\n",
       "      <td>9.802187</td>\n",
       "      <td>1.231025</td>\n",
       "      <td>130690.126777</td>\n",
       "      <td>0.578043</td>\n",
       "      <td>14.924169</td>\n",
       "    </tr>\n",
       "    <tr>\n",
       "      <th>min</th>\n",
       "      <td>0.000000</td>\n",
       "      <td>54.000000</td>\n",
       "      <td>20.000000</td>\n",
       "      <td>0.000000</td>\n",
       "      <td>0.000000</td>\n",
       "      <td>0.000000</td>\n",
       "      <td>10005.000000</td>\n",
       "      <td>0.500000</td>\n",
       "      <td>0.000000</td>\n",
       "    </tr>\n",
       "    <tr>\n",
       "      <th>25%</th>\n",
       "      <td>55157.750000</td>\n",
       "      <td>83.000000</td>\n",
       "      <td>36.000000</td>\n",
       "      <td>0.000000</td>\n",
       "      <td>0.000000</td>\n",
       "      <td>0.000000</td>\n",
       "      <td>23000.000000</td>\n",
       "      <td>1.000000</td>\n",
       "      <td>0.000000</td>\n",
       "    </tr>\n",
       "    <tr>\n",
       "      <th>50%</th>\n",
       "      <td>110315.500000</td>\n",
       "      <td>113.000000</td>\n",
       "      <td>53.000000</td>\n",
       "      <td>0.000000</td>\n",
       "      <td>0.000000</td>\n",
       "      <td>0.000000</td>\n",
       "      <td>30000.000000</td>\n",
       "      <td>1.500000</td>\n",
       "      <td>0.000000</td>\n",
       "    </tr>\n",
       "    <tr>\n",
       "      <th>75%</th>\n",
       "      <td>165473.250000</td>\n",
       "      <td>206.000000</td>\n",
       "      <td>69.000000</td>\n",
       "      <td>15.000000</td>\n",
       "      <td>14.000000</td>\n",
       "      <td>0.000000</td>\n",
       "      <td>45000.000000</td>\n",
       "      <td>2.000000</td>\n",
       "      <td>0.000000</td>\n",
       "    </tr>\n",
       "    <tr>\n",
       "      <th>max</th>\n",
       "      <td>220631.000000</td>\n",
       "      <td>1400.000000</td>\n",
       "      <td>85.000000</td>\n",
       "      <td>40.000000</td>\n",
       "      <td>30.000000</td>\n",
       "      <td>10.000000</td>\n",
       "      <td>690000.000000</td>\n",
       "      <td>2.500000</td>\n",
       "      <td>90.000000</td>\n",
       "    </tr>\n",
       "  </tbody>\n",
       "</table>\n",
       "</div>"
      ],
      "text/plain": [
       "                  ID  Population_Size            Age  Years_of_Smoking  \\\n",
       "count  220632.000000    220632.000000  220632.000000     220632.000000   \n",
       "mean   110315.500000       229.779882      52.518352          8.175274   \n",
       "std     63691.116633       349.247477      19.078215         12.377248   \n",
       "min         0.000000        54.000000      20.000000          0.000000   \n",
       "25%     55157.750000        83.000000      36.000000          0.000000   \n",
       "50%    110315.500000       113.000000      53.000000          0.000000   \n",
       "75%    165473.250000       206.000000      69.000000         15.000000   \n",
       "max    220631.000000      1400.000000      85.000000         40.000000   \n",
       "\n",
       "       Cigarettes_per_Day  Survival_Years  Annual_Lung_Cancer_Deaths  \\\n",
       "count       220632.000000   220632.000000              220632.000000   \n",
       "mean             7.007515        0.223526               63931.086928   \n",
       "std              9.802187        1.231025              130690.126777   \n",
       "min              0.000000        0.000000               10005.000000   \n",
       "25%              0.000000        0.000000               23000.000000   \n",
       "50%              0.000000        0.000000               30000.000000   \n",
       "75%             14.000000        0.000000               45000.000000   \n",
       "max             30.000000       10.000000              690000.000000   \n",
       "\n",
       "       Lung_Cancer_Prevalence_Rate  Mortality_Rate  \n",
       "count                220632.000000   220632.000000  \n",
       "mean                      1.502085        3.049802  \n",
       "std                       0.578043       14.924169  \n",
       "min                       0.500000        0.000000  \n",
       "25%                       1.000000        0.000000  \n",
       "50%                       1.500000        0.000000  \n",
       "75%                       2.000000        0.000000  \n",
       "max                       2.500000       90.000000  "
      ]
     },
     "execution_count": 23,
     "metadata": {},
     "output_type": "execute_result"
    }
   ],
   "source": [
    "df.describe()"
   ]
  },
  {
   "cell_type": "code",
   "execution_count": 24,
   "metadata": {},
   "outputs": [
    {
     "data": {
      "text/plain": [
       "np.int64(0)"
      ]
     },
     "execution_count": 24,
     "metadata": {},
     "output_type": "execute_result"
    }
   ],
   "source": [
    "df.duplicated().sum()"
   ]
  },
  {
   "cell_type": "code",
   "execution_count": 25,
   "metadata": {},
   "outputs": [
    {
     "data": {
      "text/plain": [
       "(['ID',\n",
       "  'Population_Size',\n",
       "  'Age',\n",
       "  'Years_of_Smoking',\n",
       "  'Cigarettes_per_Day',\n",
       "  'Survival_Years',\n",
       "  'Annual_Lung_Cancer_Deaths',\n",
       "  'Lung_Cancer_Prevalence_Rate',\n",
       "  'Mortality_Rate'],\n",
       " ['Country',\n",
       "  'Gender',\n",
       "  'Smoker',\n",
       "  'Passive_Smoker',\n",
       "  'Family_History',\n",
       "  'Lung_Cancer_Diagnosis',\n",
       "  'Cancer_Stage',\n",
       "  'Adenocarcinoma_Type',\n",
       "  'Air_Pollution_Exposure',\n",
       "  'Occupational_Exposure',\n",
       "  'Indoor_Pollution',\n",
       "  'Healthcare_Access',\n",
       "  'Early_Detection',\n",
       "  'Treatment_Type',\n",
       "  'Developed_or_Developing'])"
      ]
     },
     "execution_count": 25,
     "metadata": {},
     "output_type": "execute_result"
    }
   ],
   "source": [
    "numeric_cols = df.select_dtypes(np.number).columns.tolist()\n",
    "categorical_cols = df.select_dtypes(object).columns.tolist()\n",
    "numeric_cols, categorical_cols"
   ]
  },
  {
   "cell_type": "code",
   "execution_count": 26,
   "metadata": {},
   "outputs": [
    {
     "data": {
      "text/plain": [
       "9"
      ]
     },
     "execution_count": 26,
     "metadata": {},
     "output_type": "execute_result"
    }
   ],
   "source": [
    "len(numeric_cols)"
   ]
  },
  {
   "cell_type": "markdown",
   "metadata": {},
   "source": [
    "Country having highest mortality"
   ]
  },
  {
   "cell_type": "code",
   "execution_count": 27,
   "metadata": {},
   "outputs": [
    {
     "name": "stderr",
     "output_type": "stream",
     "text": [
      "C:\\Users\\Abid\\AppData\\Local\\Temp\\ipykernel_13776\\2287533731.py:2: FutureWarning: \n",
      "\n",
      "Passing `palette` without assigning `hue` is deprecated and will be removed in v0.14.0. Assign the `y` variable to `hue` and set `legend=False` for the same effect.\n",
      "\n",
      "  sns.barplot(df, x='Mortality_Rate', y='Country', palette='viridis')\n"
     ]
    },
    {
     "data": {
      "text/plain": [
       "<Axes: xlabel='Mortality_Rate', ylabel='Country'>"
      ]
     },
     "execution_count": 27,
     "metadata": {},
     "output_type": "execute_result"
    },
    {
     "data": {
      "image/png": "[encoded data removed]",
      "text/plain": [
       "<Figure size 1500x800 with 1 Axes>"
      ]
     },
     "metadata": {},
     "output_type": "display_data"
    }
   ],
   "source": [
    "plt.figure(figsize=(15,8))\n",
    "sns.barplot(df, x='Mortality_Rate', y='Country', palette='viridis')"
   ]
  },
  {
   "cell_type": "code",
   "execution_count": 28,
   "metadata": {},
   "outputs": [
    {
     "data": {
      "text/html": [
       "<style type=\"text/css\">\n",
       "#T_f6393_row0_col1, #T_f6393_row1_col1 {\n",
       "  background-color: #f2f2f2;\n",
       "  color: #000000;\n",
       "}\n",
       "#T_f6393_row2_col1 {\n",
       "  background-color: #fbb4ae;\n",
       "  color: #000000;\n",
       "}\n",
       "</style>\n",
       "<table id=\"T_f6393\">\n",
       "  <thead>\n",
       "    <tr>\n",
       "      <th class=\"blank level0\" >&nbsp;</th>\n",
       "      <th id=\"T_f6393_level0_col0\" class=\"col_heading level0 col0\" >Country</th>\n",
       "      <th id=\"T_f6393_level0_col1\" class=\"col_heading level0 col1\" >Mortality_Rate</th>\n",
       "    </tr>\n",
       "  </thead>\n",
       "  <tbody>\n",
       "    <tr>\n",
       "      <th id=\"T_f6393_level0_row0\" class=\"row_heading level0 row0\" >101782</th>\n",
       "      <td id=\"T_f6393_row0_col0\" class=\"data row0 col0\" >Iran</td>\n",
       "      <td id=\"T_f6393_row0_col1\" class=\"data row0 col1\" >90.000000</td>\n",
       "    </tr>\n",
       "    <tr>\n",
       "      <th id=\"T_f6393_level0_row1\" class=\"row_heading level0 row1\" >39429</th>\n",
       "      <td id=\"T_f6393_row1_col0\" class=\"data row1 col0\" >South Africa</td>\n",
       "      <td id=\"T_f6393_row1_col1\" class=\"data row1 col1\" >90.000000</td>\n",
       "    </tr>\n",
       "    <tr>\n",
       "      <th id=\"T_f6393_level0_row2\" class=\"row_heading level0 row2\" >106230</th>\n",
       "      <td id=\"T_f6393_row2_col0\" class=\"data row2 col0\" >Italy</td>\n",
       "      <td id=\"T_f6393_row2_col1\" class=\"data row2 col1\" >89.990000</td>\n",
       "    </tr>\n",
       "  </tbody>\n",
       "</table>\n"
      ],
      "text/plain": [
       "<pandas.io.formats.style.Styler at 0x28a36555d30>"
      ]
     },
     "execution_count": 28,
     "metadata": {},
     "output_type": "execute_result"
    }
   ],
   "source": [
    "top3_countries_highest_morality = df.sort_values(by='Mortality_Rate', ascending=False)[['Country','Mortality_Rate']].head(3)\n",
    "top3_countries_highest_morality.style.background_gradient(cmap='Pastel1')"
   ]
  },
  {
   "cell_type": "markdown",
   "metadata": {},
   "source": [
    "Country having most annual deaths"
   ]
  },
  {
   "cell_type": "code",
   "execution_count": 29,
   "metadata": {},
   "outputs": [
    {
     "name": "stderr",
     "output_type": "stream",
     "text": [
      "C:\\Users\\Abid\\AppData\\Local\\Temp\\ipykernel_13776\\122266685.py:1: FutureWarning: \n",
      "\n",
      "Passing `palette` without assigning `hue` is deprecated and will be removed in v0.14.0. Assign the `y` variable to `hue` and set `legend=False` for the same effect.\n",
      "\n",
      "  sns.barplot(df,x='Annual_Lung_Cancer_Deaths', y='Country', palette='viridis')\n"
     ]
    },
    {
     "data": {
      "text/plain": [
       "<Axes: xlabel='Annual_Lung_Cancer_Deaths', ylabel='Country'>"
      ]
     },
     "execution_count": 29,
     "metadata": {},
     "output_type": "execute_result"
    },
    {
     "data": {
      "image/png": "[encoded data removed]",
      "text/plain": [
       "<Figure size 640x480 with 1 Axes>"
      ]
     },
     "metadata": {},
     "output_type": "display_data"
    }
   ],
   "source": [
    "sns.barplot(df,x='Annual_Lung_Cancer_Deaths', y='Country', palette='viridis')"
   ]
  },
  {
   "cell_type": "markdown",
   "metadata": {},
   "source": [
    "top5_countries_most_annual_deaths = df.sort"
   ]
  },
  {
   "cell_type": "code",
   "execution_count": 30,
   "metadata": {},
   "outputs": [],
   "source": [
    "top5_countries_most_annual_deaths = df.sort_values(by='Annual_Lung_Cancer_Deaths', ascending=False)[['Country',  'Annual_Lung_Cancer_Deaths']]\n",
    "z = top5_countries_most_annual_deaths.groupby('Annual_Lung_Cancer_Deaths')['Country'].idxmax()\n",
    "# top5_countries_most_annual_deaths.style.background_gradient(cmap='Pastel1')"
   ]
  },
  {
   "cell_type": "markdown",
   "metadata": {},
   "source": [
    "Top 5 Countries with most deaths"
   ]
  },
  {
   "cell_type": "code",
   "execution_count": 31,
   "metadata": {},
   "outputs": [
    {
     "data": {
      "text/html": [
       "<style type=\"text/css\">\n",
       "#T_2b7b2_row0_col0 {\n",
       "  background-color: #f2f2f2;\n",
       "  color: #000000;\n",
       "}\n",
       "#T_2b7b2_row1_col0, #T_2b7b2_row2_col0, #T_2b7b2_row3_col0, #T_2b7b2_row4_col0 {\n",
       "  background-color: #fbb4ae;\n",
       "  color: #000000;\n",
       "}\n",
       "</style>\n",
       "<table id=\"T_2b7b2\">\n",
       "  <thead>\n",
       "    <tr>\n",
       "      <th class=\"blank level0\" >&nbsp;</th>\n",
       "      <th id=\"T_2b7b2_level0_col0\" class=\"col_heading level0 col0\" >Annual_Lung_Cancer_Deaths</th>\n",
       "    </tr>\n",
       "    <tr>\n",
       "      <th class=\"index_name level0\" >Country</th>\n",
       "      <th class=\"blank col0\" >&nbsp;</th>\n",
       "    </tr>\n",
       "  </thead>\n",
       "  <tbody>\n",
       "    <tr>\n",
       "      <th id=\"T_2b7b2_level0_row0\" class=\"row_heading level0 row0\" >China</th>\n",
       "      <td id=\"T_2b7b2_row0_col0\" class=\"data row0 col0\" >6145830000</td>\n",
       "    </tr>\n",
       "    <tr>\n",
       "      <th id=\"T_2b7b2_level0_row1\" class=\"row_heading level0 row1\" >USA</th>\n",
       "      <td id=\"T_2b7b2_row1_col0\" class=\"data row1 col0\" >1139970000</td>\n",
       "    </tr>\n",
       "    <tr>\n",
       "      <th id=\"T_2b7b2_level0_row2\" class=\"row_heading level0 row2\" >Japan</th>\n",
       "      <td id=\"T_2b7b2_row2_col0\" class=\"data row2 col0\" >674175000</td>\n",
       "    </tr>\n",
       "    <tr>\n",
       "      <th id=\"T_2b7b2_level0_row3\" class=\"row_heading level0 row3\" >India</th>\n",
       "      <td id=\"T_2b7b2_row3_col0\" class=\"data row3 col0\" >612640000</td>\n",
       "    </tr>\n",
       "    <tr>\n",
       "      <th id=\"T_2b7b2_level0_row4\" class=\"row_heading level0 row4\" >Russia</th>\n",
       "      <td id=\"T_2b7b2_row4_col0\" class=\"data row4 col0\" >528240000</td>\n",
       "    </tr>\n",
       "  </tbody>\n",
       "</table>\n"
      ],
      "text/plain": [
       "<pandas.io.formats.style.Styler at 0x28a3c3f39d0>"
      ]
     },
     "execution_count": 31,
     "metadata": {},
     "output_type": "execute_result"
    }
   ],
   "source": [
    "top5_countries_most_deaths = df.groupby('Country')['Annual_Lung_Cancer_Deaths'].sum()\n",
    "top5_countries_most_deaths = top5_countries_most_deaths.to_frame()\n",
    "top5_countries_most_deaths = top5_countries_most_deaths.sort_values(by='Annual_Lung_Cancer_Deaths',ascending=False).head(5)\n",
    "top5_countries_most_deaths.style.background_gradient(cmap='Pastel1')"
   ]
  },
  {
   "cell_type": "code",
   "execution_count": 32,
   "metadata": {},
   "outputs": [
    {
     "name": "stderr",
     "output_type": "stream",
     "text": [
      "C:\\Users\\Abid\\AppData\\Local\\Temp\\ipykernel_13776\\348567813.py:1: FutureWarning: \n",
      "\n",
      "Passing `palette` without assigning `hue` is deprecated and will be removed in v0.14.0. Assign the `x` variable to `hue` and set `legend=False` for the same effect.\n",
      "\n",
      "  sns.barplot(top5_countries_most_deaths, y='Annual_Lung_Cancer_Deaths', x=top5_countries_most_deaths.index, palette='viridis')\n"
     ]
    },
    {
     "data": {
      "text/plain": [
       "<Axes: xlabel='Country', ylabel='Annual_Lung_Cancer_Deaths'>"
      ]
     },
     "execution_count": 32,
     "metadata": {},
     "output_type": "execute_result"
    },
    {
     "data": {
      "image/png": "[encoded data removed]",
      "text/plain": [
       "<Figure size 640x480 with 1 Axes>"
      ]
     },
     "metadata": {},
     "output_type": "display_data"
    }
   ],
   "source": [
    "sns.barplot(top5_countries_most_deaths, y='Annual_Lung_Cancer_Deaths', x=top5_countries_most_deaths.index, palette='viridis')"
   ]
  },
  {
   "cell_type": "markdown",
   "metadata": {},
   "source": [
    "Which Gender has more smokers"
   ]
  },
  {
   "cell_type": "code",
   "execution_count": 44,
   "metadata": {},
   "outputs": [
    {
     "data": {
      "text/html": [
       "<style type=\"text/css\">\n",
       "#T_54eb3_row0_col2 {\n",
       "  background-color: #f2f2f2;\n",
       "  color: #000000;\n",
       "}\n",
       "#T_54eb3_row1_col2 {\n",
       "  background-color: #fbb4ae;\n",
       "  color: #000000;\n",
       "}\n",
       "#T_54eb3_row2_col2 {\n",
       "  background-color: #ffffcc;\n",
       "  color: #000000;\n",
       "}\n",
       "#T_54eb3_row3_col2 {\n",
       "  background-color: #decbe4;\n",
       "  color: #000000;\n",
       "}\n",
       "</style>\n",
       "<table id=\"T_54eb3\">\n",
       "  <thead>\n",
       "    <tr>\n",
       "      <th class=\"blank level0\" >&nbsp;</th>\n",
       "      <th id=\"T_54eb3_level0_col0\" class=\"col_heading level0 col0\" >Gender</th>\n",
       "      <th id=\"T_54eb3_level0_col1\" class=\"col_heading level0 col1\" >Smoker</th>\n",
       "      <th id=\"T_54eb3_level0_col2\" class=\"col_heading level0 col2\" >count</th>\n",
       "    </tr>\n",
       "  </thead>\n",
       "  <tbody>\n",
       "    <tr>\n",
       "      <th id=\"T_54eb3_level0_row0\" class=\"row_heading level0 row0\" >0</th>\n",
       "      <td id=\"T_54eb3_row0_col0\" class=\"data row0 col0\" >Female</td>\n",
       "      <td id=\"T_54eb3_row0_col1\" class=\"data row0 col1\" >No</td>\n",
       "      <td id=\"T_54eb3_row0_col2\" class=\"data row0 col2\" >82834</td>\n",
       "    </tr>\n",
       "    <tr>\n",
       "      <th id=\"T_54eb3_level0_row1\" class=\"row_heading level0 row1\" >1</th>\n",
       "      <td id=\"T_54eb3_row1_col0\" class=\"data row1 col0\" >Female</td>\n",
       "      <td id=\"T_54eb3_row1_col1\" class=\"data row1 col1\" >Yes</td>\n",
       "      <td id=\"T_54eb3_row1_col2\" class=\"data row1 col2\" >27654</td>\n",
       "    </tr>\n",
       "    <tr>\n",
       "      <th id=\"T_54eb3_level0_row2\" class=\"row_heading level0 row2\" >2</th>\n",
       "      <td id=\"T_54eb3_row2_col0\" class=\"data row2 col0\" >Male</td>\n",
       "      <td id=\"T_54eb3_row2_col1\" class=\"data row2 col1\" >Yes</td>\n",
       "      <td id=\"T_54eb3_row2_col2\" class=\"data row2 col2\" >60687</td>\n",
       "    </tr>\n",
       "    <tr>\n",
       "      <th id=\"T_54eb3_level0_row3\" class=\"row_heading level0 row3\" >3</th>\n",
       "      <td id=\"T_54eb3_row3_col0\" class=\"data row3 col0\" >Male</td>\n",
       "      <td id=\"T_54eb3_row3_col1\" class=\"data row3 col1\" >No</td>\n",
       "      <td id=\"T_54eb3_row3_col2\" class=\"data row3 col2\" >49457</td>\n",
       "    </tr>\n",
       "  </tbody>\n",
       "</table>\n"
      ],
      "text/plain": [
       "<pandas.io.formats.style.Styler at 0x28a3c6c4e10>"
      ]
     },
     "execution_count": 44,
     "metadata": {},
     "output_type": "execute_result"
    }
   ],
   "source": [
    "gender_having_most_smokers = df.groupby('Gender')['Smoker'].value_counts().reset_index()\n",
    "gender_having_most_smokers.style.background_gradient(cmap='Pastel1')"
   ]
  },
  {
   "cell_type": "code",
   "execution_count": 42,
   "metadata": {},
   "outputs": [
    {
     "name": "stderr",
     "output_type": "stream",
     "text": [
      "C:\\Users\\Abid\\AppData\\Local\\Temp\\ipykernel_13776\\2749574707.py:3: FutureWarning: \n",
      "\n",
      "Passing `palette` without assigning `hue` is deprecated and will be removed in v0.14.0. Assign the `x` variable to `hue` and set `legend=False` for the same effect.\n",
      "\n",
      "  sns.barplot(gender_having_most_smokers, x='Gender', y='count', palette='viridis')\n"
     ]
    },
    {
     "data": {
      "text/plain": [
       "<Axes: xlabel='Gender', ylabel='count'>"
      ]
     },
     "execution_count": 42,
     "metadata": {},
     "output_type": "execute_result"
    },
    {
     "data": {
      "image/png": "[encoded data removed]",
      "text/plain": [
       "<Figure size 1200x600 with 2 Axes>"
      ]
     },
     "metadata": {},
     "output_type": "display_data"
    }
   ],
   "source": [
    "plt.figure(figsize=(12,6))\n",
    "plt.subplot(1,2,1)\n",
    "sns.barplot(gender_having_most_smokers, x='Gender', y='count', palette='viridis')\n",
    "plt.subplot(1,2,2)\n",
    "sns.barplot(gender_having_most_smokers, x='Gender', y='count', hue='Smoker', palette='viridis')"
   ]
  },
  {
   "cell_type": "markdown",
   "metadata": {},
   "source": [
    "Rate of Early Detection as compared to Healthcare standards"
   ]
  },
  {
   "cell_type": "code",
   "execution_count": 45,
   "metadata": {},
   "outputs": [
    {
     "data": {
      "text/html": [
       "<style type=\"text/css\">\n",
       "#T_103e8_row0_col2, #T_103e8_row1_col2 {\n",
       "  background-color: #fbb4ae;\n",
       "  color: #000000;\n",
       "}\n",
       "#T_103e8_row2_col2 {\n",
       "  background-color: #f2f2f2;\n",
       "  color: #000000;\n",
       "}\n",
       "#T_103e8_row3_col2 {\n",
       "  background-color: #b3cde3;\n",
       "  color: #000000;\n",
       "}\n",
       "</style>\n",
       "<table id=\"T_103e8\">\n",
       "  <thead>\n",
       "    <tr>\n",
       "      <th class=\"blank level0\" >&nbsp;</th>\n",
       "      <th id=\"T_103e8_level0_col0\" class=\"col_heading level0 col0\" >Healthcare_Access</th>\n",
       "      <th id=\"T_103e8_level0_col1\" class=\"col_heading level0 col1\" >Early_Detection</th>\n",
       "      <th id=\"T_103e8_level0_col2\" class=\"col_heading level0 col2\" >count</th>\n",
       "    </tr>\n",
       "  </thead>\n",
       "  <tbody>\n",
       "    <tr>\n",
       "      <th id=\"T_103e8_level0_row0\" class=\"row_heading level0 row0\" >0</th>\n",
       "      <td id=\"T_103e8_row0_col0\" class=\"data row0 col0\" >Good</td>\n",
       "      <td id=\"T_103e8_row0_col1\" class=\"data row0 col1\" >Yes</td>\n",
       "      <td id=\"T_103e8_row0_col2\" class=\"data row0 col2\" >26474</td>\n",
       "    </tr>\n",
       "    <tr>\n",
       "      <th id=\"T_103e8_level0_row1\" class=\"row_heading level0 row1\" >1</th>\n",
       "      <td id=\"T_103e8_row1_col0\" class=\"data row1 col0\" >Good</td>\n",
       "      <td id=\"T_103e8_row1_col1\" class=\"data row1 col1\" >No</td>\n",
       "      <td id=\"T_103e8_row1_col2\" class=\"data row1 col2\" >17615</td>\n",
       "    </tr>\n",
       "    <tr>\n",
       "      <th id=\"T_103e8_level0_row2\" class=\"row_heading level0 row2\" >2</th>\n",
       "      <td id=\"T_103e8_row2_col0\" class=\"data row2 col0\" >Poor</td>\n",
       "      <td id=\"T_103e8_row2_col1\" class=\"data row2 col1\" >No</td>\n",
       "      <td id=\"T_103e8_row2_col2\" class=\"data row2 col2\" >141298</td>\n",
       "    </tr>\n",
       "    <tr>\n",
       "      <th id=\"T_103e8_level0_row3\" class=\"row_heading level0 row3\" >3</th>\n",
       "      <td id=\"T_103e8_row3_col0\" class=\"data row3 col0\" >Poor</td>\n",
       "      <td id=\"T_103e8_row3_col1\" class=\"data row3 col1\" >Yes</td>\n",
       "      <td id=\"T_103e8_row3_col2\" class=\"data row3 col2\" >35245</td>\n",
       "    </tr>\n",
       "  </tbody>\n",
       "</table>\n"
      ],
      "text/plain": [
       "<pandas.io.formats.style.Styler at 0x28a3c6c5090>"
      ]
     },
     "execution_count": 45,
     "metadata": {},
     "output_type": "execute_result"
    }
   ],
   "source": [
    "early_detection_vs_healthcare =  df.groupby('Healthcare_Access')['Early_Detection'].value_counts().reset_index()\n",
    "early_detection_vs_healthcare.style.background_gradient(cmap='Pastel1')"
   ]
  },
  {
   "cell_type": "code",
   "execution_count": 43,
   "metadata": {},
   "outputs": [
    {
     "name": "stderr",
     "output_type": "stream",
     "text": [
      "C:\\Users\\Abid\\AppData\\Local\\Temp\\ipykernel_13776\\1864091820.py:3: FutureWarning: \n",
      "\n",
      "Passing `palette` without assigning `hue` is deprecated and will be removed in v0.14.0. Assign the `x` variable to `hue` and set `legend=False` for the same effect.\n",
      "\n",
      "  sns.barplot(early_detection_vs_healthcare, x='Healthcare_Access', y='count', palette='viridis')\n"
     ]
    },
    {
     "data": {
      "text/plain": [
       "<Axes: xlabel='Healthcare_Access', ylabel='count'>"
      ]
     },
     "execution_count": 43,
     "metadata": {},
     "output_type": "execute_result"
    },
    {
     "data": {
      "image/png": "[encoded data removed]",
      "text/plain": [
       "<Figure size 1200x600 with 2 Axes>"
      ]
     },
     "metadata": {},
     "output_type": "display_data"
    }
   ],
   "source": [
    "plt.figure(figsize=(12,6))\n",
    "plt.subplot(1,2,1)\n",
    "sns.barplot(early_detection_vs_healthcare, x='Healthcare_Access', y='count', palette='viridis')\n",
    "plt.subplot(1,2,2)\n",
    "sns.barplot(early_detection_vs_healthcare, x='Healthcare_Access', y='count', hue='Early_Detection', palette='viridis')"
   ]
  }
 ],
 "metadata": {
  "kernelspec": {
   "display_name": "Python 3",
   "language": "python",
   "name": "python3"
  },
  "language_info": {
   "codemirror_mode": {
    "name": "ipython",
    "version": 3
   },
   "file_extension": ".py",
   "mimetype": "text/x-python",
   "name": "python",
   "nbconvert_exporter": "python",
   "pygments_lexer": "ipython3",
   "version": "3.13.0"
  }
 },
 "nbformat": 4,
 "nbformat_minor": 2
}
